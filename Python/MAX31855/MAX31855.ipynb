{
 "cells": [
  {
   "cell_type": "markdown",
   "metadata": {},
   "source": [
    "# MAX318955 Temperature Sensor\n",
    "To run this script, select `Run` → `Run All Cells` from the menu."
   ]
  },
  {
   "cell_type": "code",
   "execution_count": null,
   "metadata": {
    "jupyter": {
     "source_hidden": true
    }
   },
   "outputs": [],
   "source": [
    "## Don't modify this line! :)\n",
    "config = {}\n",
    "\n",
    "## MQTT - our client id\n",
    "config['mqtt_id'] = 'MAX318955-Reader'\n",
    "\n",
    "## MQTT - broker ip / hostname\n",
    "config['mqtt_broker'] = '10.42.10.86'\n",
    "\n",
    "## MQTT - empty sset of topics\n",
    "config['mqtt_topics'] = set([])\n",
    "\n",
    "## MQTT - subscribed topics\n",
    "config['mqtt_topics'].add('sensor/60:01:94:4C:10:22')\n",
    "config['mqtt_topics'].add('sensor/60:01:94:4A:A8:95')\n",
    "\n",
    "## Recording - stop the program if the defined amount of samples has been recorded (0 = unlimited)\n",
    "config['record_sample_limit'] = 0\n",
    "\n",
    "## Recording - stop the program if the defined amount of seconds has passed (0 = unlimited)\n",
    "config['record_duration_limit'] = 60\n",
    "\n",
    "## Display - upper limit of samples displayed in the bokeh graph\n",
    "config['bokeh_stream_rollover'] = 250\n",
    "\n",
    "## Export formats (True/False)\n",
    "config['export_json']  = False\n",
    "config['export_csv']   = False\n",
    "config['export_excel'] = False"
   ]
  },
  {
   "cell_type": "code",
   "execution_count": null,
   "metadata": {
    "jupyter": {
     "source_hidden": true
    },
    "slideshow": {
     "slide_type": "slide"
    },
    "tags": [
     "hide_input"
    ]
   },
   "outputs": [],
   "source": [
    "import MAX31855\n",
    "MAX31855.record_and_display(config)"
   ]
  },
  {
   "cell_type": "code",
   "execution_count": null,
   "metadata": {},
   "outputs": [],
   "source": []
  }
 ],
 "metadata": {
  "kernelspec": {
   "display_name": "Python 3",
   "language": "python",
   "name": "python3"
  },
  "language_info": {
   "codemirror_mode": {
    "name": "ipython",
    "version": 3
   },
   "file_extension": ".py",
   "mimetype": "text/x-python",
   "name": "python",
   "nbconvert_exporter": "python",
   "pygments_lexer": "ipython3",
   "version": "3.7.3"
  }
 },
 "nbformat": 4,
 "nbformat_minor": 4
}
