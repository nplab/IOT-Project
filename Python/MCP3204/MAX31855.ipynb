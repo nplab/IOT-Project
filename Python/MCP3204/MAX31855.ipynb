{
 "cells": [
  {
   "cell_type": "markdown",
   "metadata": {},
   "source": [
    "# MAX318955 Temperature Sensor\n",
    "To run this script, select `Run` → `Run All Cells` from the menu."
   ]
  },
  {
   "cell_type": "code",
   "execution_count": 1,
   "metadata": {},
   "outputs": [],
   "source": [
    "## Don't modify this line! :)\n",
    "config = {}\n",
    "\n",
    "## MQTT - our client id\n",
    "config['mqtt_id'] = 'MCP3204-Reader'\n",
    "\n",
    "## MQTT - broker ip / hostname\n",
    "config['mqtt_broker'] = 'iot.fh-muenster.de'\n",
    "\n",
    "## MQTT - broker username / password\n",
    "config['mqtt_broker_user'] = 'MQTT_USER'\n",
    "config['mqtt_broker_pass'] = 'MQTT_PASSWORD'\n",
    "\n",
    "## MQTT - empty sset of topics\n",
    "config['mqtt_topics'] = set([])\n",
    "\n",
    "## MQTT - subscribed topics\n",
    "config['mqtt_topics'].add('sensor/3C:71:BF:AA:7B:18')\n",
    "#config['mqtt_topics'].add('sensor/60:01:94:4A:A8:95')\n",
    "\n",
    "## Recording - stop the program if the defined amount of samples has been recorded (0 = unlimited)\n",
    "config['record_sample_limit'] = 0\n",
    "\n",
    "## Recording - stop the program if the defined amount of seconds has passed (0 = unlimited)\n",
    "config['record_duration_limit'] = 10\n",
    "\n",
    "## Display - upper limit of samples displayed in the bokeh graph\n",
    "config['bokeh_stream_rollover'] = 250\n",
    "\n",
    "## Export formats (True/False)\n",
    "config['export_json']  = False\n",
    "config['export_csv']   = True\n",
    "config['export_excel'] = False"
   ]
  },
  {
   "cell_type": "code",
   "execution_count": 6,
   "metadata": {
    "slideshow": {
     "slide_type": "slide"
    },
    "tags": [
     "hide_input"
    ]
   },
   "outputs": [
    {
     "data": {
      "text/html": [
       "\n",
       "\n",
       "\n",
       "\n",
       "\n",
       "\n",
       "  <div class=\"bk-root\" id=\"ceda0156-7a93-4a10-92ff-c9705a2abdbc\" data-root-id=\"3379\"></div>\n"
      ]
     },
     "metadata": {},
     "output_type": "display_data"
    },
    {
     "data": {
      "application/javascript": "(function(root) {\n  function embed_document(root) {\n    \n  var docs_json = {\"9a98b289-c61f-4a7a-a9d7-49526492544c\":{\"roots\":{\"references\":[{\"attributes\":{\"below\":[{\"id\":\"3390\",\"type\":\"DatetimeAxis\"}],\"center\":[{\"id\":\"3394\",\"type\":\"Grid\"},{\"id\":\"3399\",\"type\":\"Grid\"},{\"id\":\"3446\",\"type\":\"Legend\"}],\"left\":[{\"id\":\"3395\",\"type\":\"LinearAxis\"}],\"plot_height\":400,\"renderers\":[{\"id\":\"3419\",\"type\":\"GlyphRenderer\"},{\"id\":\"3424\",\"type\":\"GlyphRenderer\"}],\"sizing_mode\":\"stretch_width\",\"title\":{\"id\":\"3380\",\"type\":\"Title\"},\"toolbar\":{\"id\":\"3407\",\"type\":\"Toolbar\"},\"x_range\":{\"id\":\"3382\",\"type\":\"DataRange1d\"},\"x_scale\":{\"id\":\"3386\",\"type\":\"LinearScale\"},\"y_range\":{\"id\":\"3384\",\"type\":\"DataRange1d\"},\"y_scale\":{\"id\":\"3388\",\"type\":\"LinearScale\"}},\"id\":\"3379\",\"subtype\":\"Figure\",\"type\":\"Plot\"},{\"attributes\":{\"data_source\":{\"id\":\"3415\",\"type\":\"ColumnDataSource\"},\"glyph\":{\"id\":\"3417\",\"type\":\"Line\"},\"hover_glyph\":null,\"muted_glyph\":null,\"nonselection_glyph\":{\"id\":\"3418\",\"type\":\"Line\"},\"selection_glyph\":null,\"view\":{\"id\":\"3420\",\"type\":\"CDSView\"}},\"id\":\"3419\",\"type\":\"GlyphRenderer\"},{\"attributes\":{},\"id\":\"3401\",\"type\":\"WheelZoomTool\"},{\"attributes\":{},\"id\":\"3430\",\"type\":\"DatetimeTickFormatter\"},{\"attributes\":{\"callback\":null},\"id\":\"3384\",\"type\":\"DataRange1d\"},{\"attributes\":{\"line_alpha\":0.1,\"line_color\":\"#1f77b4\",\"x\":{\"field\":\"x\"},\"y\":{\"field\":\"y\"}},\"id\":\"3418\",\"type\":\"Line\"},{\"attributes\":{\"base\":24,\"mantissas\":[1,2,4,6,8,12],\"max_interval\":43200000.0,\"min_interval\":3600000.0,\"num_minor_ticks\":0},\"id\":\"3433\",\"type\":\"AdaptiveTicker\"},{\"attributes\":{\"callback\":null,\"data\":{\"x\":[],\"y\":[]},\"selected\":{\"id\":\"3443\",\"type\":\"Selection\"},\"selection_policy\":{\"id\":\"3444\",\"type\":\"UnionRenderers\"}},\"id\":\"3415\",\"type\":\"ColumnDataSource\"},{\"attributes\":{\"overlay\":{\"id\":\"3445\",\"type\":\"BoxAnnotation\"}},\"id\":\"3402\",\"type\":\"BoxZoomTool\"},{\"attributes\":{\"text\":\"MCP3204 Voltage Plot\"},\"id\":\"3380\",\"type\":\"Title\"},{\"attributes\":{},\"id\":\"3400\",\"type\":\"PanTool\"},{\"attributes\":{\"base\":60,\"mantissas\":[1,2,5,10,15,20,30],\"max_interval\":1800000.0,\"min_interval\":1000.0,\"num_minor_ticks\":0},\"id\":\"3432\",\"type\":\"AdaptiveTicker\"},{\"attributes\":{},\"id\":\"3403\",\"type\":\"ResetTool\"},{\"attributes\":{},\"id\":\"3386\",\"type\":\"LinearScale\"},{\"attributes\":{},\"id\":\"3404\",\"type\":\"CrosshairTool\"},{\"attributes\":{\"days\":[1,2,3,4,5,6,7,8,9,10,11,12,13,14,15,16,17,18,19,20,21,22,23,24,25,26,27,28,29,30,31]},\"id\":\"3434\",\"type\":\"DaysTicker\"},{\"attributes\":{\"dimension\":1,\"ticker\":{\"id\":\"3396\",\"type\":\"BasicTicker\"}},\"id\":\"3399\",\"type\":\"Grid\"},{\"attributes\":{\"source\":{\"id\":\"3415\",\"type\":\"ColumnDataSource\"}},\"id\":\"3420\",\"type\":\"CDSView\"},{\"attributes\":{},\"id\":\"3396\",\"type\":\"BasicTicker\"},{\"attributes\":{\"callback\":null},\"id\":\"3405\",\"type\":\"HoverTool\"},{\"attributes\":{\"days\":[1,4,7,10,13,16,19,22,25,28]},\"id\":\"3435\",\"type\":\"DaysTicker\"},{\"attributes\":{\"num_minor_ticks\":5,\"tickers\":[{\"id\":\"3431\",\"type\":\"AdaptiveTicker\"},{\"id\":\"3432\",\"type\":\"AdaptiveTicker\"},{\"id\":\"3433\",\"type\":\"AdaptiveTicker\"},{\"id\":\"3434\",\"type\":\"DaysTicker\"},{\"id\":\"3435\",\"type\":\"DaysTicker\"},{\"id\":\"3436\",\"type\":\"DaysTicker\"},{\"id\":\"3437\",\"type\":\"DaysTicker\"},{\"id\":\"3438\",\"type\":\"MonthsTicker\"},{\"id\":\"3439\",\"type\":\"MonthsTicker\"},{\"id\":\"3440\",\"type\":\"MonthsTicker\"},{\"id\":\"3441\",\"type\":\"MonthsTicker\"},{\"id\":\"3442\",\"type\":\"YearsTicker\"}]},\"id\":\"3391\",\"type\":\"DatetimeTicker\"},{\"attributes\":{\"label\":{\"value\":\"sensor/3C:71:BF:AA:7B:18\"},\"renderers\":[{\"id\":\"3424\",\"type\":\"GlyphRenderer\"}]},\"id\":\"3447\",\"type\":\"LegendItem\"},{\"attributes\":{\"days\":[1,8,15,22]},\"id\":\"3436\",\"type\":\"DaysTicker\"},{\"attributes\":{},\"id\":\"3388\",\"type\":\"LinearScale\"},{\"attributes\":{\"mantissas\":[1,2,5],\"max_interval\":500.0,\"num_minor_ticks\":0},\"id\":\"3431\",\"type\":\"AdaptiveTicker\"},{\"attributes\":{},\"id\":\"3406\",\"type\":\"SaveTool\"},{\"attributes\":{\"days\":[1,15]},\"id\":\"3437\",\"type\":\"DaysTicker\"},{\"attributes\":{\"line_color\":\"#1b9e77\",\"x\":{\"field\":\"x\"},\"y\":{\"field\":\"y\"}},\"id\":\"3417\",\"type\":\"Line\"},{\"attributes\":{\"active_drag\":\"auto\",\"active_inspect\":\"auto\",\"active_multi\":null,\"active_scroll\":\"auto\",\"active_tap\":\"auto\",\"tools\":[{\"id\":\"3400\",\"type\":\"PanTool\"},{\"id\":\"3401\",\"type\":\"WheelZoomTool\"},{\"id\":\"3402\",\"type\":\"BoxZoomTool\"},{\"id\":\"3403\",\"type\":\"ResetTool\"},{\"id\":\"3404\",\"type\":\"CrosshairTool\"},{\"id\":\"3405\",\"type\":\"HoverTool\"},{\"id\":\"3406\",\"type\":\"SaveTool\"}]},\"id\":\"3407\",\"type\":\"Toolbar\"},{\"attributes\":{\"months\":[0,1,2,3,4,5,6,7,8,9,10,11]},\"id\":\"3438\",\"type\":\"MonthsTicker\"},{\"attributes\":{\"axis_label\":\"Time\",\"formatter\":{\"id\":\"3430\",\"type\":\"DatetimeTickFormatter\"},\"ticker\":{\"id\":\"3391\",\"type\":\"DatetimeTicker\"}},\"id\":\"3390\",\"type\":\"DatetimeAxis\"},{\"attributes\":{\"months\":[0,2,4,6,8,10]},\"id\":\"3439\",\"type\":\"MonthsTicker\"},{\"attributes\":{\"bottom_units\":\"screen\",\"fill_alpha\":{\"value\":0.5},\"fill_color\":{\"value\":\"lightgrey\"},\"left_units\":\"screen\",\"level\":\"overlay\",\"line_alpha\":{\"value\":1.0},\"line_color\":{\"value\":\"black\"},\"line_dash\":[4,4],\"line_width\":{\"value\":2},\"render_mode\":\"css\",\"right_units\":\"screen\",\"top_units\":\"screen\"},\"id\":\"3445\",\"type\":\"BoxAnnotation\"},{\"attributes\":{\"callback\":null},\"id\":\"3382\",\"type\":\"DataRange1d\"},{\"attributes\":{\"ticker\":{\"id\":\"3391\",\"type\":\"DatetimeTicker\"}},\"id\":\"3394\",\"type\":\"Grid\"},{\"attributes\":{\"months\":[0,4,8]},\"id\":\"3440\",\"type\":\"MonthsTicker\"},{\"attributes\":{\"fill_color\":{\"value\":\"white\"},\"line_color\":{\"value\":\"#1b9e77\"},\"x\":{\"field\":\"x\"},\"y\":{\"field\":\"y\"}},\"id\":\"3422\",\"type\":\"Circle\"},{\"attributes\":{},\"id\":\"3428\",\"type\":\"BasicTickFormatter\"},{\"attributes\":{\"axis_label\":\"Voltage (mV)\",\"formatter\":{\"id\":\"3428\",\"type\":\"BasicTickFormatter\"},\"ticker\":{\"id\":\"3396\",\"type\":\"BasicTicker\"}},\"id\":\"3395\",\"type\":\"LinearAxis\"},{\"attributes\":{\"months\":[0,6]},\"id\":\"3441\",\"type\":\"MonthsTicker\"},{\"attributes\":{},\"id\":\"3444\",\"type\":\"UnionRenderers\"},{\"attributes\":{},\"id\":\"3442\",\"type\":\"YearsTicker\"},{\"attributes\":{},\"id\":\"3443\",\"type\":\"Selection\"},{\"attributes\":{\"fill_alpha\":{\"value\":0.1},\"fill_color\":{\"value\":\"#1f77b4\"},\"line_alpha\":{\"value\":0.1},\"line_color\":{\"value\":\"#1f77b4\"},\"x\":{\"field\":\"x\"},\"y\":{\"field\":\"y\"}},\"id\":\"3423\",\"type\":\"Circle\"},{\"attributes\":{\"data_source\":{\"id\":\"3415\",\"type\":\"ColumnDataSource\"},\"glyph\":{\"id\":\"3422\",\"type\":\"Circle\"},\"hover_glyph\":null,\"muted_glyph\":null,\"nonselection_glyph\":{\"id\":\"3423\",\"type\":\"Circle\"},\"selection_glyph\":null,\"view\":{\"id\":\"3425\",\"type\":\"CDSView\"}},\"id\":\"3424\",\"type\":\"GlyphRenderer\"},{\"attributes\":{\"items\":[{\"id\":\"3447\",\"type\":\"LegendItem\"}]},\"id\":\"3446\",\"type\":\"Legend\"},{\"attributes\":{\"source\":{\"id\":\"3415\",\"type\":\"ColumnDataSource\"}},\"id\":\"3425\",\"type\":\"CDSView\"}],\"root_ids\":[\"3379\"]},\"title\":\"Bokeh Application\",\"version\":\"1.4.0\"}};\n  var render_items = [{\"docid\":\"9a98b289-c61f-4a7a-a9d7-49526492544c\",\"notebook_comms_target\":\"3508\",\"roots\":{\"3379\":\"ceda0156-7a93-4a10-92ff-c9705a2abdbc\"}}];\n  root.Bokeh.embed.embed_items_notebook(docs_json, render_items);\n\n  }\n  if (root.Bokeh !== undefined) {\n    embed_document(root);\n  } else {\n    var attempts = 0;\n    var timer = setInterval(function(root) {\n      if (root.Bokeh !== undefined) {\n        clearInterval(timer);\n        embed_document(root);\n      } else {\n        attempts++;\n        if (attempts > 100) {\n          clearInterval(timer);\n          console.log(\"Bokeh: ERROR: Unable to run BokehJS code because BokehJS library is missing\");\n        }\n      }\n    }, 10, root)\n  }\n})(window);",
      "application/vnd.bokehjs_exec.v0+json": ""
     },
     "metadata": {
      "application/vnd.bokehjs_exec.v0+json": {
       "id": "3379"
      }
     },
     "output_type": "display_data"
    },
    {
     "name": "stderr",
     "output_type": "stream",
     "text": [
      "INFO:root:MQTT connected - RC 0\n",
      "INFO:root:Reached runtime limit, stopping\n",
      "INFO:root:Data written to 20191213130756.csv\n",
      "INFO:root:Finished!\n"
     ]
    }
   ],
   "source": [
    "import MCP3204\n",
    "MCP3204.record_and_display(config)"
   ]
  },
  {
   "cell_type": "code",
   "execution_count": null,
   "metadata": {},
   "outputs": [],
   "source": [
    "import MCP3204\n"
   ]
  },
  {
   "cell_type": "code",
   "execution_count": null,
   "metadata": {},
   "outputs": [],
   "source": []
  }
 ],
 "metadata": {
  "kernelspec": {
   "display_name": "Python 3",
   "language": "python",
   "name": "python3"
  },
  "language_info": {
   "codemirror_mode": {
    "name": "ipython",
    "version": 3
   },
   "file_extension": ".py",
   "mimetype": "text/x-python",
   "name": "python",
   "nbconvert_exporter": "python",
   "pygments_lexer": "ipython3",
   "version": "3.7.5"
  }
 },
 "nbformat": 4,
 "nbformat_minor": 4
}
