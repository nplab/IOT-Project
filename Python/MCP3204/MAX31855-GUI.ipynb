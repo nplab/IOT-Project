{
 "cells": [
  {
   "cell_type": "markdown",
   "metadata": {},
   "source": [
    "# MAX31855 Temperature\n",
    "To run this script, select `Run` → `Run All Cells` from the menu."
   ]
  },
  {
   "cell_type": "code",
   "execution_count": null,
   "metadata": {
    "jupyter": {
     "source_hidden": true
    }
   },
   "outputs": [],
   "source": [
    "import ipywidgets as widgets\n",
    "from IPython.display import display"
   ]
  },
  {
   "cell_type": "code",
   "execution_count": null,
   "metadata": {
    "jupyter": {
     "source_hidden": true
    }
   },
   "outputs": [],
   "source": [
    "## Don't modify this line! :)\n",
    "config = {}\n",
    "\n",
    "## MQTT - our client id\n",
    "config['mqtt_id'] = 'MAX318955-Reader'\n",
    "\n",
    "## MQTT - broker ip / hostname\n",
    "config['mqtt_broker'] = 'iot.fh-muenster.de'\n",
    "\n",
    "## MQTT - broker username / password\n",
    "config['mqtt_broker_user'] = 'MQTT_USER'\n",
    "config['mqtt_broker_pass'] = 'MQTT_PASSWORD'\n",
    "\n",
    "## MQTT - empty sset of topics\n",
    "config['mqtt_topics'] = set([])\n",
    "\n",
    "## MQTT - subscribed topics\n",
    "config['mqtt_topics'].add('sensor/60:01:94:4C:10:22')\n",
    "config['mqtt_topics'].add('sensor/60:01:94:4A:A8:95')\n",
    "\n",
    "## Recording - stop the program if the defined amount of samples has been recorded (0 = unlimited)\n",
    "config['record_sample_limit'] = 0\n",
    "\n",
    "## Recording - stop the program if the defined amount of seconds has passed (0 = unlimited)\n",
    "config['record_duration_limit'] = 60\n",
    "\n",
    "## Display - upper limit of samples displayed in the bokeh graph\n",
    "config['bokeh_stream_rollover'] = 250\n",
    "\n",
    "## Export formats (True/False)\n",
    "config['export_json']  = False\n",
    "config['export_csv']   = False\n",
    "config['export_excel'] = False"
   ]
  },
  {
   "cell_type": "code",
   "execution_count": null,
   "metadata": {
    "jupyter": {
     "source_hidden": true
    }
   },
   "outputs": [],
   "source": [
    "import MAX31855"
   ]
  },
  {
   "cell_type": "code",
   "execution_count": null,
   "metadata": {},
   "outputs": [],
   "source": [
    "input_limit_samples = widgets.IntText(\n",
    "    value=config['record_sample_limit'],\n",
    "    description='Sample limit (0 : unlimited)',\n",
    "    disabled=False,\n",
    "    style={'description_width': '200px'}\n",
    ")\n",
    "\n",
    "input_limit_time = widgets.IntText(\n",
    "    value=config['record_duration_limit'],\n",
    "    description='Time limit (s, 0 : unlimited)',\n",
    "    disabled=False,\n",
    "    style={'description_width': '200px'}\n",
    ")\n",
    "\n",
    "input_bokeh_limit = widgets.IntText(\n",
    "    value=config['bokeh_stream_rollover'],\n",
    "    description='Graph limit (0 : unlimited)',\n",
    "    disabled=False,\n",
    "    style={'description_width': '200px'}\n",
    ")\n",
    "\n",
    "input_export_csv = widgets.Checkbox(\n",
    "    value=False,\n",
    "    description='Export CSV results',\n",
    "    disabled=False\n",
    ")\n",
    "\n",
    "input_export_json = widgets.Checkbox(\n",
    "    value=False,\n",
    "    description='Export JSON results',\n",
    "    disabled=False\n",
    ")\n",
    "\n",
    "input_export_excel = widgets.Checkbox(\n",
    "    value=False,\n",
    "    description='Export EXCEL results',\n",
    "    disabled=False\n",
    ")\n",
    "\n",
    "button_run = widgets.Button(description=\"Run program\")\n",
    "output = widgets.Output()\n",
    "\n",
    "def on_button_clicked(b):\n",
    "    config['record_sample_limit']   = input_limit_samples.value\n",
    "    config['record_duration_limit'] = input_limit_time.value\n",
    "    config['bokeh_stream_rollover'] = input_bokeh_limit.value\n",
    "    \n",
    "    config['export_json']  = input_export_json.value\n",
    "    config['export_csv']   = input_export_csv.value\n",
    "    config['export_excel'] = input_export_excel.value\n",
    "    \n",
    "    with output:\n",
    "        #print(config)\n",
    "        #print(\"Starting program\")\n",
    "        MAX31855.record_and_display(config)\n",
    "\n",
    "button_run.on_click(on_button_clicked)\n",
    "\n",
    "display(input_limit_samples)\n",
    "display(input_limit_time)\n",
    "display(input_bokeh_limit)\n",
    "display(input_export_csv)\n",
    "display(input_export_json)\n",
    "display(input_export_excel)\n",
    "display(button_run)\n",
    "display(output)"
   ]
  }
 ],
 "metadata": {
  "kernelspec": {
   "display_name": "Python 3",
   "language": "python",
   "name": "python3"
  },
  "language_info": {
   "codemirror_mode": {
    "name": "ipython",
    "version": 3
   },
   "file_extension": ".py",
   "mimetype": "text/x-python",
   "name": "python",
   "nbconvert_exporter": "python",
   "pygments_lexer": "ipython3",
   "version": "3.7.5"
  }
 },
 "nbformat": 4,
 "nbformat_minor": 4
}
